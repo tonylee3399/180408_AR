{
 "cells": [
  {
   "cell_type": "markdown",
   "metadata": {},
   "source": [
    "# [Python Course Original Link](https://www.python-course.eu/neural_networks_with_scikit.php)"
   ]
  },
  {
   "cell_type": "code",
   "execution_count": 1,
   "metadata": {},
   "outputs": [],
   "source": [
    "from __future__ import print_function\n",
    "import numpy as np\n",
    "import matplotlib.pyplot as plt\n",
    "import seaborn as sns\n",
    "sns.set()"
   ]
  },
  {
   "cell_type": "code",
   "execution_count": 2,
   "metadata": {},
   "outputs": [
    {
     "name": "stdout",
     "output_type": "stream",
     "text": [
      "MLPClassifier(activation='relu', alpha=1e-05, batch_size='auto', beta_1=0.9,\n",
      "       beta_2=0.999, early_stopping=False, epsilon=1e-08,\n",
      "       hidden_layer_sizes=(5, 2), learning_rate='constant',\n",
      "       learning_rate_init=0.001, max_iter=200, momentum=0.9,\n",
      "       nesterovs_momentum=True, power_t=0.5, random_state=1, shuffle=True,\n",
      "       solver='lbfgs', tol=0.0001, validation_fraction=0.1, verbose=False,\n",
      "       warm_start=False)\n"
     ]
    }
   ],
   "source": [
    "from sklearn.neural_network import MLPClassifier\n",
    "X = [[0., 0.], [0., 1.], [1., 0.], [1., 1.]]\n",
    "y = [0, 0, 0, 1]\n",
    "clf = MLPClassifier(solver='lbfgs', alpha=1e-5,\n",
    "                    hidden_layer_sizes=(5, 2), random_state=1)\n",
    "print(clf.fit(X, y))"
   ]
  },
  {
   "cell_type": "code",
   "execution_count": 3,
   "metadata": {},
   "outputs": [
    {
     "name": "stdout",
     "output_type": "stream",
     "text": [
      "weights between input and first hidden layer:\n",
      "[[-0.14203691 -1.18304359 -0.85567518 -4.53250719 -0.60466275]\n",
      " [-0.69781111 -3.5850093  -0.26436018 -4.39161248  0.06644423]]\n",
      "\n",
      "weights between first hidden and second hidden layer:\n",
      "[[ 0.29179638 -0.14155284]\n",
      " [ 4.02666592 -0.61556475]\n",
      " [-0.51677234  0.51479708]\n",
      " [ 7.37215202 -0.31936965]\n",
      " [ 0.32920668  0.64428109]]\n"
     ]
    }
   ],
   "source": [
    "print(\"weights between input and first hidden layer:\")\n",
    "print(clf.coefs_[0])\n",
    "print(\"\\nweights between first hidden and second hidden layer:\")\n",
    "print(clf.coefs_[1])"
   ]
  },
  {
   "cell_type": "markdown",
   "metadata": {},
   "source": [
    "We can get the values for w0 and w1 from clf.coefs_ like this:\n",
    "\n",
    "w0= clf.coefs_[0][0][0] and w1= clf.coefs_[0][1][0]"
   ]
  },
  {
   "cell_type": "code",
   "execution_count": 4,
   "metadata": {},
   "outputs": [
    {
     "name": "stdout",
     "output_type": "stream",
     "text": [
      "w0 =  -0.14203691267827181\n",
      "w1 =  -0.697811114977869\n"
     ]
    }
   ],
   "source": [
    "print(\"w0 = \", clf.coefs_[0][0][0])\n",
    "print(\"w1 = \", clf.coefs_[0][1][0])"
   ]
  },
  {
   "cell_type": "markdown",
   "metadata": {},
   "source": [
    "The weight vector of H00 can be accessed with"
   ]
  },
  {
   "cell_type": "code",
   "execution_count": 5,
   "metadata": {},
   "outputs": [
    {
     "data": {
      "text/plain": [
       "array([-0.14203691, -0.69781111])"
      ]
     },
     "execution_count": 5,
     "metadata": {},
     "output_type": "execute_result"
    }
   ],
   "source": [
    "clf.coefs_[0][:,0]"
   ]
  },
  {
   "cell_type": "markdown",
   "metadata": {},
   "source": [
    "We can generalize the above to access a neuron Hij in the following way:"
   ]
  },
  {
   "cell_type": "code",
   "execution_count": 6,
   "metadata": {},
   "outputs": [
    {
     "name": "stdout",
     "output_type": "stream",
     "text": [
      "0 0 [-0.14203691 -0.69781111], \n",
      "0 1 [-1.18304359 -3.5850093 ], \n",
      "0 2 [-0.85567518 -0.26436018], \n",
      "0 3 [-4.53250719 -4.39161248], \n",
      "0 4 [-0.60466275  0.06644423], \n",
      "\n",
      "1 0 [ 0.29179638  4.02666592 -0.51677234  7.37215202  0.32920668], \n",
      "1 1 [-0.14155284 -0.61556475  0.51479708 -0.31936965  0.64428109], \n",
      "\n",
      "2 0 [-4.96774269 -0.86330397], \n",
      "\n"
     ]
    }
   ],
   "source": [
    "for i in range(len(clf.coefs_)):\n",
    "    number_neurons_in_layer = clf.coefs_[i].shape[1]\n",
    "    for j in range(number_neurons_in_layer):\n",
    "        weights = clf.coefs_[i][:,j]\n",
    "        print(i, j, weights, end=\", \")\n",
    "        print()\n",
    "    print()"
   ]
  },
  {
   "cell_type": "markdown",
   "metadata": {},
   "source": [
    "intercepts_ is a list of bias vectors, where the vector at index i represents the bias values added to layer i+1."
   ]
  },
  {
   "cell_type": "code",
   "execution_count": 7,
   "metadata": {},
   "outputs": [
    {
     "name": "stdout",
     "output_type": "stream",
     "text": [
      "Bias values for first hidden layer:\n",
      "[-0.14962269 -0.59232707 -0.5472481   7.02667699 -0.87510813]\n",
      "\n",
      "Bias values for second hidden layer:\n",
      "[-3.61417672 -0.76834882]\n"
     ]
    }
   ],
   "source": [
    "print(\"Bias values for first hidden layer:\")\n",
    "print(clf.intercepts_[0])\n",
    "print(\"\\nBias values for second hidden layer:\")\n",
    "print(clf.intercepts_[1])"
   ]
  },
  {
   "cell_type": "markdown",
   "metadata": {},
   "source": [
    "The main reason, why we train a classifier is to predict results for new samples. We can do this with the predict method. The method returns a predicted class for a sample, in our case a \"0\" or a \"1\" :"
   ]
  },
  {
   "cell_type": "code",
   "execution_count": 8,
   "metadata": {},
   "outputs": [
    {
     "data": {
      "text/plain": [
       "array([0, 0, 0, 0, 1, 1, 1, 1])"
      ]
     },
     "execution_count": 8,
     "metadata": {},
     "output_type": "execute_result"
    }
   ],
   "source": [
    "result = clf.predict([[0, 0], [0, 1], \n",
    "                      [1, 0], [0, 1], \n",
    "                      [1, 1], [2., 2.],\n",
    "                      [1.3, 1.3], [2, 4.8]])\n",
    "result"
   ]
  },
  {
   "cell_type": "markdown",
   "metadata": {},
   "source": [
    "Instead of just looking at the class results, we can also use the predict_proba method to get the probability estimates."
   ]
  },
  {
   "cell_type": "code",
   "execution_count": 9,
   "metadata": {},
   "outputs": [
    {
     "name": "stdout",
     "output_type": "stream",
     "text": [
      "[[1.00000000e+000 5.25723951e-101]\n",
      " [1.00000000e+000 3.71534882e-031]\n",
      " [1.00000000e+000 6.47069178e-029]\n",
      " [1.00000000e+000 3.71534882e-031]\n",
      " [2.07145538e-004 9.99792854e-001]\n",
      " [2.07145538e-004 9.99792854e-001]\n",
      " [2.07145538e-004 9.99792854e-001]\n",
      " [2.07145538e-004 9.99792854e-001]]\n"
     ]
    }
   ],
   "source": [
    "prob_results = clf.predict_proba([[0, 0], [0, 1], \n",
    "                                  [1, 0], [0, 1], \n",
    "                                  [1, 1], [2., 2.], \n",
    "                                  [1.3, 1.3], [2, 4.8]])\n",
    "print(prob_results)"
   ]
  },
  {
   "cell_type": "markdown",
   "metadata": {},
   "source": [
    "prob_results[i][0] gives us the probability for the class0, i.e. a \"0\" and results[i][1] the probabilty for a \"1\". i corresponds to the ith sample."
   ]
  },
  {
   "cell_type": "markdown",
   "metadata": {},
   "source": [
    "# ---------Another Example---------"
   ]
  },
  {
   "cell_type": "markdown",
   "metadata": {},
   "source": [
    "We will populate two clusters (class0 and class1) in a two dimensional space."
   ]
  },
  {
   "cell_type": "code",
   "execution_count": 10,
   "metadata": {},
   "outputs": [
    {
     "data": {
      "text/plain": [
       "<matplotlib.collections.PathCollection at 0x10bfb2d10>"
      ]
     },
     "execution_count": 10,
     "metadata": {},
     "output_type": "execute_result"
    },
    {
     "data": {
      "text/plain": [
       "Text(0.5,1,'Original X and Y for Class 0 and 1')"
      ]
     },
     "execution_count": 10,
     "metadata": {},
     "output_type": "execute_result"
    },
    {
     "data": {
      "text/plain": [
       "<matplotlib.collections.PathCollection at 0x10c118e50>"
      ]
     },
     "execution_count": 10,
     "metadata": {},
     "output_type": "execute_result"
    },
    {
     "data": {
      "text/plain": [
       "<matplotlib.collections.PathCollection at 0x10c0ecdd0>"
      ]
     },
     "execution_count": 10,
     "metadata": {},
     "output_type": "execute_result"
    },
    {
     "data": {
      "text/plain": [
       "<matplotlib.collections.PathCollection at 0x10c124810>"
      ]
     },
     "execution_count": 10,
     "metadata": {},
     "output_type": "execute_result"
    },
    {
     "data": {
      "text/plain": [
       "Text(0.5,1,'X and Y with added points')"
      ]
     },
     "execution_count": 10,
     "metadata": {},
     "output_type": "execute_result"
    },
    {
     "data": {
      "image/png": "[encoded data removed]",
      "text/plain": [
       "<Figure size 432x432 with 1 Axes>"
      ]
     },
     "metadata": {
      "image/png": {
       "height": 372,
       "width": 367
      }
     },
     "output_type": "display_data"
    },
    {
     "data": {
      "image/png": "[encoded data removed]",
      "text/plain": [
       "<Figure size 432x432 with 1 Axes>"
      ]
     },
     "metadata": {
      "image/png": {
       "height": 372,
       "width": 367
      }
     },
     "output_type": "display_data"
    }
   ],
   "source": [
    "npoints = 50\n",
    "X, Y = [], []\n",
    "# class 0\n",
    "X.append(np.random.uniform(low=-2.5, high=2.3, size=(npoints,)) )\n",
    "Y.append(np.random.uniform(low=-1.7, high=2.8, size=(npoints,)))\n",
    "# class 1\n",
    "X.append(np.random.uniform(low=-7.2, high=-4.4, size=(npoints,)) )\n",
    "Y.append(np.random.uniform(low=3, high=6.5, size=(npoints,)))\n",
    "fig, ax = plt.subplots(figsize=(6,6))\n",
    "ax.scatter(X, Y)\n",
    "ax.set_title(\"Original X and Y for Class 0 and 1\")\n",
    "\n",
    "learnset = []\n",
    "learnlabels = []\n",
    "for i in range(2):\n",
    "    # adding points of class i to learnset\n",
    "    points = zip(X[i], Y[i])\n",
    "    for p in points:\n",
    "        learnset.append(p)\n",
    "        learnlabels.append(i)\n",
    "npoints_test = 3 * npoints\n",
    "TestX = np.random.uniform(low=-7.2, high=5, size=(npoints_test,)) \n",
    "TestY = np.random.uniform(low=-4, high=9, size=(npoints_test,))\n",
    "testset = []\n",
    "points = zip(TestX, TestY)\n",
    "for p in points:\n",
    "    testset.append(p)\n",
    "colours = [\"b\", \"r\"]\n",
    "\n",
    "fig2, ax2 = plt.subplots(figsize=(6, 6))\n",
    "\n",
    "for i in range(2):\n",
    "    ax2.scatter(X[i], Y[i], c=colours[i])\n",
    "ax2.scatter(TestX, TestY, c=\"g\")\n",
    "ax2.set_title(\"X and Y with added points\")\n"
   ]
  },
  {
   "cell_type": "markdown",
   "metadata": {},
   "source": [
    "We will train a MLPClassifier for our two classes:"
   ]
  },
  {
   "cell_type": "code",
   "execution_count": 11,
   "metadata": {},
   "outputs": [],
   "source": [
    "from sklearn.datasets import fetch_mldata\n",
    "from sklearn.neural_network import MLPClassifier"
   ]
  },
  {
   "cell_type": "code",
   "execution_count": 12,
   "metadata": {
    "scrolled": false
   },
   "outputs": [
    {
     "name": "stdout",
     "output_type": "stream",
     "text": [
      "Iteration 1, loss = 0.51570183\n",
      "Iteration 2, loss = 0.47449284\n",
      "Iteration 3, loss = 0.43364161\n",
      "Iteration 4, loss = 0.38611988\n",
      "Iteration 5, loss = 0.35249127\n",
      "Iteration 6, loss = 0.32435362\n",
      "Iteration 7, loss = 0.29583901\n",
      "Iteration 8, loss = 0.26829075\n",
      "Iteration 9, loss = 0.24260248\n",
      "Iteration 10, loss = 0.21880013\n",
      "Iteration 11, loss = 0.19678262\n",
      "Iteration 12, loss = 0.17661370\n",
      "Iteration 13, loss = 0.15845910\n",
      "Iteration 14, loss = 0.14218428\n",
      "Iteration 15, loss = 0.12771144\n",
      "Iteration 16, loss = 0.11489852\n",
      "Iteration 17, loss = 0.10359591\n",
      "Iteration 18, loss = 0.09367143\n",
      "Iteration 19, loss = 0.08501450\n",
      "Iteration 20, loss = 0.07744673\n",
      "Iteration 21, loss = 0.07081763\n",
      "Iteration 22, loss = 0.06498940\n",
      "Iteration 23, loss = 0.05984236\n",
      "Iteration 24, loss = 0.05528232\n",
      "Iteration 25, loss = 0.05123571\n",
      "Iteration 26, loss = 0.04764139\n",
      "Iteration 27, loss = 0.04444459\n",
      "Iteration 28, loss = 0.04159519\n",
      "Iteration 29, loss = 0.03904927\n",
      "Iteration 30, loss = 0.03676591\n",
      "Iteration 31, loss = 0.03471137\n",
      "Iteration 32, loss = 0.03285819\n",
      "Iteration 33, loss = 0.03118262\n",
      "Iteration 34, loss = 0.02966431\n",
      "Iteration 35, loss = 0.02828511\n",
      "Iteration 36, loss = 0.02702899\n",
      "Iteration 37, loss = 0.02588182\n",
      "Iteration 38, loss = 0.02483144\n",
      "Iteration 39, loss = 0.02386728\n",
      "Iteration 40, loss = 0.02298019\n",
      "Iteration 41, loss = 0.02217104\n",
      "Iteration 42, loss = 0.02142557\n",
      "Iteration 43, loss = 0.02073534\n",
      "Iteration 44, loss = 0.02009507\n",
      "Iteration 45, loss = 0.01949992\n",
      "Iteration 46, loss = 0.01894533\n",
      "Iteration 47, loss = 0.01842725\n",
      "Iteration 48, loss = 0.01794224\n",
      "Iteration 49, loss = 0.01748717\n",
      "Iteration 50, loss = 0.01705845\n",
      "Iteration 51, loss = 0.01665781\n",
      "Iteration 52, loss = 0.01627971\n",
      "Iteration 53, loss = 0.01592241\n",
      "Iteration 54, loss = 0.01558430\n",
      "Iteration 55, loss = 0.01526389\n",
      "Iteration 56, loss = 0.01495913\n",
      "Iteration 57, loss = 0.01466906\n",
      "Iteration 58, loss = 0.01439267\n",
      "Iteration 59, loss = 0.01412890\n",
      "Iteration 60, loss = 0.01387681\n",
      "Iteration 61, loss = 0.01363562\n",
      "Iteration 62, loss = 0.01340484\n",
      "Iteration 63, loss = 0.01318348\n",
      "Iteration 64, loss = 0.01297088\n",
      "Iteration 65, loss = 0.01276521\n",
      "Iteration 66, loss = 0.01256720\n",
      "Iteration 67, loss = 0.01237636\n",
      "Iteration 68, loss = 0.01219226\n",
      "Iteration 69, loss = 0.01201448\n",
      "Iteration 70, loss = 0.01184265\n",
      "Iteration 71, loss = 0.01167583\n",
      "Iteration 72, loss = 0.01151429\n",
      "Iteration 73, loss = 0.01135776\n",
      "Iteration 74, loss = 0.01120596\n",
      "Iteration 75, loss = 0.01105866\n",
      "Iteration 76, loss = 0.01091549\n",
      "Iteration 77, loss = 0.01077569\n",
      "Iteration 78, loss = 0.01063925\n",
      "Iteration 79, loss = 0.01050644\n",
      "Iteration 80, loss = 0.01037710\n",
      "Iteration 81, loss = 0.01025109\n",
      "Iteration 82, loss = 0.01012826\n",
      "Iteration 83, loss = 0.01000897\n",
      "Iteration 84, loss = 0.00989291\n",
      "Iteration 85, loss = 0.00977980\n",
      "Iteration 86, loss = 0.00966945\n",
      "Iteration 87, loss = 0.00956173\n",
      "Iteration 88, loss = 0.00945651\n",
      "Iteration 89, loss = 0.00935371\n",
      "Iteration 90, loss = 0.00925321\n",
      "Iteration 91, loss = 0.00915494\n",
      "Iteration 92, loss = 0.00905882\n",
      "Iteration 93, loss = 0.00896478\n",
      "Training loss did not improve more than tol=0.000100 for two consecutive epochs. Stopping.\n"
     ]
    },
    {
     "data": {
      "text/plain": [
       "MLPClassifier(activation='relu', alpha=0.0001, batch_size='auto', beta_1=0.9,\n",
       "       beta_2=0.999, early_stopping=False, epsilon=1e-08,\n",
       "       hidden_layer_sizes=(20, 3), learning_rate='constant',\n",
       "       learning_rate_init=0.1, max_iter=150, momentum=0.9,\n",
       "       nesterovs_momentum=True, power_t=0.5, random_state=1, shuffle=True,\n",
       "       solver='sgd', tol=0.0001, validation_fraction=0.1, verbose=10,\n",
       "       warm_start=False)"
      ]
     },
     "execution_count": 12,
     "metadata": {},
     "output_type": "execute_result"
    },
    {
     "name": "stdout",
     "output_type": "stream",
     "text": [
      "Training set score: 1.000000\n",
      "Test set score: 1.000000\n",
      "Classes: [0 1]\n"
     ]
    }
   ],
   "source": [
    "# Default code from the website\n",
    "mlp = MLPClassifier(hidden_layer_sizes=(20, 3), max_iter=150, alpha=1e-4,\n",
    "                    solver='sgd', verbose=10, tol=1e-4, random_state=1,\n",
    "                    learning_rate_init=.1)\n",
    "\n",
    "# Modified code for experiments\n",
    "# mlp = MLPClassifier(hidden_layer_sizes=(20, 3), max_iter=1500, alpha=1e-4,\n",
    "#                     solver='sgd', verbose=10, tol=1e-6, random_state=1,\n",
    "#                     learning_rate_init=.1)\n",
    "\n",
    "mlp.fit(learnset, learnlabels)\n",
    "print(\"Training set score: %f\" % mlp.score(learnset, learnlabels))\n",
    "print(\"Test set score: %f\" % mlp.score(learnset, learnlabels))\n",
    "print(\"Classes: {}\".format(mlp.classes_))"
   ]
  },
  {
   "cell_type": "code",
   "execution_count": 13,
   "metadata": {},
   "outputs": [
    {
     "data": {
      "text/plain": [
       "array([0, 1, 0, 0, 0, 0, 0, 1, 0, 1, 0, 0, 0, 1, 1, 1, 1, 0, 1, 1, 0, 0,\n",
       "       0, 1, 0, 0, 0, 1, 0, 0, 0, 0, 0, 1, 0, 0, 1, 1, 1, 0, 0, 1, 1, 1,\n",
       "       1, 0, 1, 0, 1, 1, 1, 0, 1, 0, 0, 1, 1, 1, 0, 0, 1, 1, 1, 0, 1, 1,\n",
       "       1, 1, 0, 1, 0, 0, 0, 0, 1, 1, 0, 1, 1, 0, 0, 0, 1, 0, 1, 1, 1, 0,\n",
       "       1, 1, 1, 1, 0, 1, 0, 1, 0, 0, 0, 1, 1, 0, 1, 1, 0, 0, 0, 1, 1, 1,\n",
       "       1, 0, 0, 0, 0, 0, 0, 0, 0, 0, 0, 1, 0, 0, 1, 1, 1, 1, 0, 1, 0, 0,\n",
       "       0, 0, 1, 1, 1, 0, 0, 1, 1, 0, 0, 0, 0, 1, 0, 0, 0, 0])"
      ]
     },
     "execution_count": 13,
     "metadata": {},
     "output_type": "execute_result"
    }
   ],
   "source": [
    "predictions = clf.predict(testset)\n",
    "predictions"
   ]
  },
  {
   "cell_type": "code",
   "execution_count": 14,
   "metadata": {},
   "outputs": [
    {
     "data": {
      "text/plain": [
       "<matplotlib.collections.PathCollection at 0x10c775790>"
      ]
     },
     "execution_count": 14,
     "metadata": {},
     "output_type": "execute_result"
    },
    {
     "data": {
      "text/plain": [
       "<matplotlib.collections.PathCollection at 0x10c748650>"
      ]
     },
     "execution_count": 14,
     "metadata": {},
     "output_type": "execute_result"
    },
    {
     "data": {
      "text/plain": [
       "<matplotlib.collections.PathCollection at 0x10c775f10>"
      ]
     },
     "execution_count": 14,
     "metadata": {},
     "output_type": "execute_result"
    },
    {
     "data": {
      "text/plain": [
       "<matplotlib.collections.PathCollection at 0x10c775b10>"
      ]
     },
     "execution_count": 14,
     "metadata": {},
     "output_type": "execute_result"
    },
    {
     "data": {
      "image/png": "[encoded data removed]",
      "text/plain": [
       "<Figure size 432x288 with 1 Axes>"
      ]
     },
     "metadata": {
      "image/png": {
       "height": 248,
       "width": 367
      }
     },
     "output_type": "display_data"
    }
   ],
   "source": [
    "testset = np.array(testset)\n",
    "# testset[predictions==1]\n",
    "colours = ['#C0FFFF', \"#FFC8C8\"]\n",
    "for i in range(2):\n",
    "    plt.scatter(X[i], Y[i], c=colours[i])\n",
    "colours = [\"b\", \"r\"]\n",
    "for i in range(2):\n",
    "    cls = testset[predictions==i]\n",
    "    Xt, Yt = zip(*cls)\n",
    "    plt.scatter(Xt, Yt, marker=\"D\", c=colours[i])"
   ]
  },
  {
   "cell_type": "markdown",
   "metadata": {},
   "source": [
    "# ---------Another Example---------"
   ]
  },
  {
   "cell_type": "markdown",
   "metadata": {},
   "source": [
    "# MNIST Dataset\n",
    "We have already used the MNIST dataset in the chapter Testing with MNIST of our tutorial. You will also find some explanations about this dataset.\n",
    "\n",
    "We want to apply the MLPClassifier on the MNIST data. So far we have used our locally stored MNIST data. sklearn provides also this dataset, as we can see in the following:"
   ]
  },
  {
   "cell_type": "code",
   "execution_count": 15,
   "metadata": {},
   "outputs": [],
   "source": [
    "import matplotlib.pyplot as plt\n",
    "from sklearn.datasets import fetch_mldata\n",
    "from sklearn.neural_network import MLPClassifier"
   ]
  },
  {
   "cell_type": "code",
   "execution_count": 16,
   "metadata": {},
   "outputs": [],
   "source": [
    "mnist = fetch_mldata(\"MNIST original\")"
   ]
  },
  {
   "cell_type": "code",
   "execution_count": 17,
   "metadata": {},
   "outputs": [
    {
     "data": {
      "text/plain": [
       "array([[0, 0, 0, ..., 0, 0, 0],\n",
       "       [0, 0, 0, ..., 0, 0, 0],\n",
       "       [0, 0, 0, ..., 0, 0, 0],\n",
       "       ...,\n",
       "       [0, 0, 0, ..., 0, 0, 0],\n",
       "       [0, 0, 0, ..., 0, 0, 0],\n",
       "       [0, 0, 0, ..., 0, 0, 0]], dtype=uint8)"
      ]
     },
     "execution_count": 17,
     "metadata": {},
     "output_type": "execute_result"
    },
    {
     "data": {
      "text/plain": [
       "(70000, 784)"
      ]
     },
     "execution_count": 17,
     "metadata": {},
     "output_type": "execute_result"
    }
   ],
   "source": [
    "mnist.data\n",
    "mnist.data.shape"
   ]
  },
  {
   "cell_type": "code",
   "execution_count": 19,
   "metadata": {},
   "outputs": [
    {
     "name": "stdout",
     "output_type": "stream",
     "text": [
      "Iteration 1, loss = 0.29711511\n",
      "Iteration 2, loss = 0.12543994\n",
      "Iteration 3, loss = 0.08891995\n",
      "Iteration 4, loss = 0.06980587\n",
      "Iteration 5, loss = 0.05722261\n",
      "Iteration 6, loss = 0.04768470\n",
      "Iteration 7, loss = 0.03988128\n",
      "Iteration 8, loss = 0.03484239\n",
      "Iteration 9, loss = 0.02850733\n",
      "Iteration 10, loss = 0.02373436\n",
      "Iteration 11, loss = 0.02096870\n",
      "Iteration 12, loss = 0.01726910\n",
      "Iteration 13, loss = 0.01428864\n",
      "Iteration 14, loss = 0.01236551\n",
      "Iteration 15, loss = 0.00987732\n",
      "Iteration 16, loss = 0.00843697\n",
      "Iteration 17, loss = 0.00738563\n",
      "Iteration 18, loss = 0.00642474\n",
      "Iteration 19, loss = 0.00526446\n",
      "Iteration 20, loss = 0.00438302\n",
      "Iteration 21, loss = 0.00376373\n",
      "Iteration 22, loss = 0.00345448\n",
      "Iteration 23, loss = 0.00302641\n",
      "Iteration 24, loss = 0.00269291\n",
      "Iteration 25, loss = 0.00255057\n",
      "Iteration 26, loss = 0.00235068\n",
      "Iteration 27, loss = 0.00223805\n",
      "Iteration 28, loss = 0.00208284\n",
      "Iteration 29, loss = 0.00196621\n",
      "Iteration 30, loss = 0.00185587\n",
      "Iteration 31, loss = 0.00176521\n",
      "Iteration 32, loss = 0.00169159\n",
      "Iteration 33, loss = 0.00163580\n",
      "Training loss did not improve more than tol=0.000100 for two consecutive epochs. Stopping.\n"
     ]
    },
    {
     "data": {
      "text/plain": [
       "MLPClassifier(activation='relu', alpha=0.0001, batch_size='auto', beta_1=0.9,\n",
       "       beta_2=0.999, early_stopping=False, epsilon=1e-08,\n",
       "       hidden_layer_sizes=(100,), learning_rate='constant',\n",
       "       learning_rate_init=0.1, max_iter=40, momentum=0.9,\n",
       "       nesterovs_momentum=True, power_t=0.5, random_state=1, shuffle=True,\n",
       "       solver='sgd', tol=0.0001, validation_fraction=0.1, verbose=10,\n",
       "       warm_start=False)"
      ]
     },
     "execution_count": 19,
     "metadata": {},
     "output_type": "execute_result"
    }
   ],
   "source": [
    "X, y = mnist.data / 255., mnist.target\n",
    "X_train, X_test = X[:60000], X[60000:]\n",
    "y_train, y_test = y[:60000], y[60000:]\n",
    "mlp = MLPClassifier(hidden_layer_sizes=(100, ), max_iter=40, alpha=1e-4,\n",
    "                    solver='sgd', verbose=10, tol=1e-4, random_state=1,\n",
    "                    learning_rate_init=.1)\n",
    "mlp.fit(X_train, y_train)"
   ]
  },
  {
   "cell_type": "code",
   "execution_count": 20,
   "metadata": {},
   "outputs": [
    {
     "name": "stdout",
     "output_type": "stream",
     "text": [
      "Training set score: 1.000000\n",
      "Test set score: 0.980400\n"
     ]
    }
   ],
   "source": [
    "print(\"Training set score: %f\" % mlp.score(X_train, y_train))\n",
    "print(\"Test set score: %f\" % mlp.score(X_test, y_test))"
   ]
  },
  {
   "cell_type": "code",
   "execution_count": 21,
   "metadata": {},
   "outputs": [
    {
     "data": {
      "text/plain": [
       "<matplotlib.image.AxesImage at 0x111803450>"
      ]
     },
     "execution_count": 21,
     "metadata": {},
     "output_type": "execute_result"
    },
    {
     "data": {
      "text/plain": [
       "[]"
      ]
     },
     "execution_count": 21,
     "metadata": {},
     "output_type": "execute_result"
    },
    {
     "data": {
      "text/plain": [
       "[]"
      ]
     },
     "execution_count": 21,
     "metadata": {},
     "output_type": "execute_result"
    },
    {
     "data": {
      "text/plain": [
       "<matplotlib.image.AxesImage at 0x111803850>"
      ]
     },
     "execution_count": 21,
     "metadata": {},
     "output_type": "execute_result"
    },
    {
     "data": {
      "text/plain": [
       "[]"
      ]
     },
     "execution_count": 21,
     "metadata": {},
     "output_type": "execute_result"
    },
    {
     "data": {
      "text/plain": [
       "[]"
      ]
     },
     "execution_count": 21,
     "metadata": {},
     "output_type": "execute_result"
    },
    {
     "data": {
      "text/plain": [
       "<matplotlib.image.AxesImage at 0x111803b50>"
      ]
     },
     "execution_count": 21,
     "metadata": {},
     "output_type": "execute_result"
    },
    {
     "data": {
      "text/plain": [
       "[]"
      ]
     },
     "execution_count": 21,
     "metadata": {},
     "output_type": "execute_result"
    },
    {
     "data": {
      "text/plain": [
       "[]"
      ]
     },
     "execution_count": 21,
     "metadata": {},
     "output_type": "execute_result"
    },
    {
     "data": {
      "text/plain": [
       "<matplotlib.image.AxesImage at 0x111803e10>"
      ]
     },
     "execution_count": 21,
     "metadata": {},
     "output_type": "execute_result"
    },
    {
     "data": {
      "text/plain": [
       "[]"
      ]
     },
     "execution_count": 21,
     "metadata": {},
     "output_type": "execute_result"
    },
    {
     "data": {
      "text/plain": [
       "[]"
      ]
     },
     "execution_count": 21,
     "metadata": {},
     "output_type": "execute_result"
    },
    {
     "data": {
      "text/plain": [
       "<matplotlib.image.AxesImage at 0x10cd9ae10>"
      ]
     },
     "execution_count": 21,
     "metadata": {},
     "output_type": "execute_result"
    },
    {
     "data": {
      "text/plain": [
       "[]"
      ]
     },
     "execution_count": 21,
     "metadata": {},
     "output_type": "execute_result"
    },
    {
     "data": {
      "text/plain": [
       "[]"
      ]
     },
     "execution_count": 21,
     "metadata": {},
     "output_type": "execute_result"
    },
    {
     "data": {
      "text/plain": [
       "<matplotlib.image.AxesImage at 0x111816190>"
      ]
     },
     "execution_count": 21,
     "metadata": {},
     "output_type": "execute_result"
    },
    {
     "data": {
      "text/plain": [
       "[]"
      ]
     },
     "execution_count": 21,
     "metadata": {},
     "output_type": "execute_result"
    },
    {
     "data": {
      "text/plain": [
       "[]"
      ]
     },
     "execution_count": 21,
     "metadata": {},
     "output_type": "execute_result"
    },
    {
     "data": {
      "text/plain": [
       "<matplotlib.image.AxesImage at 0x111816750>"
      ]
     },
     "execution_count": 21,
     "metadata": {},
     "output_type": "execute_result"
    },
    {
     "data": {
      "text/plain": [
       "[]"
      ]
     },
     "execution_count": 21,
     "metadata": {},
     "output_type": "execute_result"
    },
    {
     "data": {
      "text/plain": [
       "[]"
      ]
     },
     "execution_count": 21,
     "metadata": {},
     "output_type": "execute_result"
    },
    {
     "data": {
      "text/plain": [
       "<matplotlib.image.AxesImage at 0x111816450>"
      ]
     },
     "execution_count": 21,
     "metadata": {},
     "output_type": "execute_result"
    },
    {
     "data": {
      "text/plain": [
       "[]"
      ]
     },
     "execution_count": 21,
     "metadata": {},
     "output_type": "execute_result"
    },
    {
     "data": {
      "text/plain": [
       "[]"
      ]
     },
     "execution_count": 21,
     "metadata": {},
     "output_type": "execute_result"
    },
    {
     "data": {
      "text/plain": [
       "<matplotlib.image.AxesImage at 0x111816ad0>"
      ]
     },
     "execution_count": 21,
     "metadata": {},
     "output_type": "execute_result"
    },
    {
     "data": {
      "text/plain": [
       "[]"
      ]
     },
     "execution_count": 21,
     "metadata": {},
     "output_type": "execute_result"
    },
    {
     "data": {
      "text/plain": [
       "[]"
      ]
     },
     "execution_count": 21,
     "metadata": {},
     "output_type": "execute_result"
    },
    {
     "data": {
      "text/plain": [
       "<matplotlib.image.AxesImage at 0x111816b10>"
      ]
     },
     "execution_count": 21,
     "metadata": {},
     "output_type": "execute_result"
    },
    {
     "data": {
      "text/plain": [
       "[]"
      ]
     },
     "execution_count": 21,
     "metadata": {},
     "output_type": "execute_result"
    },
    {
     "data": {
      "text/plain": [
       "[]"
      ]
     },
     "execution_count": 21,
     "metadata": {},
     "output_type": "execute_result"
    },
    {
     "data": {
      "text/plain": [
       "<matplotlib.image.AxesImage at 0x111823190>"
      ]
     },
     "execution_count": 21,
     "metadata": {},
     "output_type": "execute_result"
    },
    {
     "data": {
      "text/plain": [
       "[]"
      ]
     },
     "execution_count": 21,
     "metadata": {},
     "output_type": "execute_result"
    },
    {
     "data": {
      "text/plain": [
       "[]"
      ]
     },
     "execution_count": 21,
     "metadata": {},
     "output_type": "execute_result"
    },
    {
     "data": {
      "text/plain": [
       "<matplotlib.image.AxesImage at 0x111823250>"
      ]
     },
     "execution_count": 21,
     "metadata": {},
     "output_type": "execute_result"
    },
    {
     "data": {
      "text/plain": [
       "[]"
      ]
     },
     "execution_count": 21,
     "metadata": {},
     "output_type": "execute_result"
    },
    {
     "data": {
      "text/plain": [
       "[]"
      ]
     },
     "execution_count": 21,
     "metadata": {},
     "output_type": "execute_result"
    },
    {
     "data": {
      "text/plain": [
       "<matplotlib.image.AxesImage at 0x111823550>"
      ]
     },
     "execution_count": 21,
     "metadata": {},
     "output_type": "execute_result"
    },
    {
     "data": {
      "text/plain": [
       "[]"
      ]
     },
     "execution_count": 21,
     "metadata": {},
     "output_type": "execute_result"
    },
    {
     "data": {
      "text/plain": [
       "[]"
      ]
     },
     "execution_count": 21,
     "metadata": {},
     "output_type": "execute_result"
    },
    {
     "data": {
      "text/plain": [
       "<matplotlib.image.AxesImage at 0x111823990>"
      ]
     },
     "execution_count": 21,
     "metadata": {},
     "output_type": "execute_result"
    },
    {
     "data": {
      "text/plain": [
       "[]"
      ]
     },
     "execution_count": 21,
     "metadata": {},
     "output_type": "execute_result"
    },
    {
     "data": {
      "text/plain": [
       "[]"
      ]
     },
     "execution_count": 21,
     "metadata": {},
     "output_type": "execute_result"
    },
    {
     "data": {
      "text/plain": [
       "<matplotlib.image.AxesImage at 0x111823d90>"
      ]
     },
     "execution_count": 21,
     "metadata": {},
     "output_type": "execute_result"
    },
    {
     "data": {
      "text/plain": [
       "[]"
      ]
     },
     "execution_count": 21,
     "metadata": {},
     "output_type": "execute_result"
    },
    {
     "data": {
      "text/plain": [
       "[]"
      ]
     },
     "execution_count": 21,
     "metadata": {},
     "output_type": "execute_result"
    },
    {
     "data": {
      "text/plain": [
       "<matplotlib.image.AxesImage at 0x111823f50>"
      ]
     },
     "execution_count": 21,
     "metadata": {},
     "output_type": "execute_result"
    },
    {
     "data": {
      "text/plain": [
       "[]"
      ]
     },
     "execution_count": 21,
     "metadata": {},
     "output_type": "execute_result"
    },
    {
     "data": {
      "text/plain": [
       "[]"
      ]
     },
     "execution_count": 21,
     "metadata": {},
     "output_type": "execute_result"
    },
    {
     "data": {
      "image/png": "[encoded data removed]",
      "text/plain": [
       "<Figure size 432x288 with 16 Axes>"
      ]
     },
     "metadata": {
      "image/png": {
       "height": 231,
       "width": 323
      }
     },
     "output_type": "display_data"
    }
   ],
   "source": [
    "fig, axes = plt.subplots(4, 4)\n",
    "# use global min / max to ensure all weights are shown on the same scale\n",
    "vmin, vmax = mlp.coefs_[0].min(), mlp.coefs_[0].max()\n",
    "for coef, ax in zip(mlp.coefs_[0].T, axes.ravel()):\n",
    "    ax.matshow(coef.reshape(28, 28), cmap=plt.cm.gray, vmin=.5 * vmin,\n",
    "               vmax=.5 * vmax)\n",
    "    ax.set_xticks(())\n",
    "    ax.set_yticks(())"
   ]
  },
  {
   "cell_type": "code",
   "execution_count": 23,
   "metadata": {},
   "outputs": [],
   "source": [
    "# Cannot find the file, ERROR\n",
    "# import pickle\n",
    "# with open(\"data/mnist/pickled_mnist.pkl\", \"br\") as fh:\n",
    "#     data = pickle.load(fh)\n",
    "# train_imgs = data[0]\n",
    "# test_imgs = data[1]\n",
    "# train_labels = data[2]\n",
    "# test_labels = data[3]\n",
    "# train_labels_one_hot = data[4]\n",
    "# test_labels_one_hot = data[5]\n",
    "# image_size = 28 # width and length\n",
    "# no_of_different_labels = 10 #  i.e. 0, 1, 2, 3, ..., 9\n",
    "# image_pixels = image_size * image_size"
   ]
  },
  {
   "cell_type": "code",
   "execution_count": null,
   "metadata": {},
   "outputs": [],
   "source": []
  }
 ],
 "metadata": {
  "kernelspec": {
   "display_name": "Python 2",
   "language": "python",
   "name": "python2"
  },
  "language_info": {
   "codemirror_mode": {
    "name": "ipython",
    "version": 2
   },
   "file_extension": ".py",
   "mimetype": "text/x-python",
   "name": "python",
   "nbconvert_exporter": "python",
   "pygments_lexer": "ipython2",
   "version": "2.7.13"
  }
 },
 "nbformat": 4,
 "nbformat_minor": 2
}
