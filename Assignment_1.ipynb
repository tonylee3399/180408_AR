{
 "cells": [
  {
   "cell_type": "code",
   "execution_count": 31,
   "metadata": {},
   "outputs": [],
   "source": [
    "from __future__ import print_function\n",
    "from PIL import Image\n",
    "import numpy as np\n",
    "import matplotlib.pyplot as plt\n",
    "from sklearn.neighbors import NearestNeighbors\n",
    "from os.path import isfile, isdir, join, split, splitext, exists\n",
    "from os import listdir, makedirs"
   ]
  },
  {
   "cell_type": "code",
   "execution_count": 32,
   "metadata": {},
   "outputs": [],
   "source": [
    "def calculate_SAD(arr1, arr2):\n",
    "    \"\"\"Calculate sum of absolute distance\"\"\"\n",
    "    z = abs(arr1/100 - arr2/100)\n",
    "    z = z * 100\n",
    "    return np.sum(z)\n",
    "\n",
    "def calculate_SSD(arr1, arr2):\n",
    "    \"\"\"Calculate sum of squared distance\"\"\"\n",
    "    z = abs(arr1/100 - arr2/100)\n",
    "    z = z * 100\n",
    "    return np.sum(z**2)"
   ]
  },
  {
   "cell_type": "code",
   "execution_count": 33,
   "metadata": {},
   "outputs": [],
   "source": [
    "# Require the following library:\n",
    "# import matplotlib.pyplot as plt\n",
    "\n",
    "# Receive np.array, show the image\n",
    "def show_image(arr, title=\"\"):\n",
    "    fig, ax = plt.subplots(figsize=(10, 8))\n",
    "    plt.imshow(np.asarray(arr))\n",
    "    plt.title(title)"
   ]
  },
  {
   "cell_type": "markdown",
   "metadata": {},
   "source": [
    "# Question 1\n",
    "Read all images and convert to grayscale images"
   ]
  },
  {
   "cell_type": "code",
   "execution_count": 34,
   "metadata": {},
   "outputs": [],
   "source": [
    "path = \"CroppedYale/\""
   ]
  },
  {
   "cell_type": "code",
   "execution_count": 37,
   "metadata": {
    "scrolled": true
   },
   "outputs": [
    {
     "name": "stdout",
     "output_type": "stream",
     "text": [
      "Total image files found: 2433\n"
     ]
    }
   ],
   "source": [
    "directories = [join(path, d)\n",
    "               for d in listdir(path) \n",
    "               if isdir(join(path, d))]\n",
    "\n",
    "image_files = [join(d, f)\n",
    "                for d in directories\n",
    "                for f in listdir(d)\n",
    "                if isfile(join(d, f))]\n",
    "\n",
    "print(\"Total image files found: {}\".format(len(image_files)))\n",
    "# print(\"{:^3} - {}\".format(\"#\", \"Filename\"))\n",
    "# [\"{:03} - {}\".format(n+1, f) for n, f in enumerate(image_files)]"
   ]
  },
  {
   "cell_type": "code",
   "execution_count": 38,
   "metadata": {
    "scrolled": true
   },
   "outputs": [],
   "source": [
    "grayscale_path = \"CroppedYale_Grayscale/\"\n",
    "\n",
    "for n, d in enumerate(directories):\n",
    "    _d = d.split('/')\n",
    "    _dir = join(grayscale_path, _d[1])\n",
    "    if not exists(_dir):\n",
    "#         print(\"{} Not exist\".format(_dir))\n",
    "#         print(\"Creating directory {}\".format(_dir))\n",
    "        makedirs(_dir)\n",
    "        print(\"Created '{}' directory\\n\".format(_dir))\n",
    "    else:\n",
    "#         print(\"'{}' folder exist\".format(_dir))\n",
    "        continue"
   ]
  },
  {
   "cell_type": "markdown",
   "metadata": {},
   "source": [
    "The following code converts the images into grayscale images<br>\n",
    "Logical operations as following:\n",
    "1. `Line 3~5`: Since the program may takes some times and computational resources, we define a timer for measurement\n",
    "2. `Line 8~11`: Through the previous run, we found some images have .bad extension. We used `os.path.splitext` to filter out the extension of the file and `continue` the loop upon finding `.pgm` extension.\n",
    "3. `Line 13~17`: Since the grayscale images may already exists, we did a check-up before actually converting the images and save them into grayscale image\n",
    "4. `Line 19~22`: Open image, convert image into grayscale with `L` parameter, save it into `gray_img_name`, add `converted` counter by 1"
   ]
  },
  {
   "cell_type": "code",
   "execution_count": 39,
   "metadata": {},
   "outputs": [
    {
     "name": "stdout",
     "output_type": "stream",
     "text": [
      "Excluding image CroppedYale/yaleB17/yaleB17_P00A-010E+00.pgm.bad\n",
      "Excluding image CroppedYale/yaleB18/yaleB18_P00A-010E+00.pgm.bad\n",
      "Excluding image CroppedYale/yaleB16/yaleB16_P00A+095E+00.pgm.bad\n",
      "Excluding image CroppedYale/yaleB16/yaleB16_P00A-010E+00.pgm.bad\n",
      "Excluding image CroppedYale/yaleB11/yaleB11_P00A-050E-40.pgm.bad\n",
      "Excluding image CroppedYale/yaleB11/yaleB11_P00A+050E-40.pgm.bad\n",
      "Excluding image CroppedYale/yaleB11/yaleB11_P00A-110E+15.pgm.bad\n",
      "Excluding image CroppedYale/yaleB11/yaleB11_P00A+095E+00.pgm.bad\n",
      "Excluding image CroppedYale/yaleB13/yaleB13_P00A+095E+00.pgm.bad\n",
      "Excluding image CroppedYale/yaleB13/yaleB13_P00A-110E+15.pgm.bad\n",
      "Excluding image CroppedYale/yaleB13/yaleB13_P00A+050E-40.pgm.bad\n",
      "Excluding image CroppedYale/yaleB13/yaleB13_P00A-050E-40.pgm.bad\n",
      "Excluding image CroppedYale/yaleB12/yaleB12_P00A+095E+00.pgm.bad\n",
      "Excluding image CroppedYale/yaleB12/yaleB12_P00A-110E+15.pgm.bad\n",
      "Excluding image CroppedYale/yaleB12/yaleB12_P00A+050E-40.pgm.bad\n",
      "Excluding image CroppedYale/yaleB12/yaleB12_P00A-050E-40.pgm.bad\n",
      "Excluding image CroppedYale/yaleB12/yaleB12_P00A-110E-20.pgm.bad\n",
      "Excluding image CroppedYale/yaleB15/yaleB15_P00A-035E+40.pgm.bad\n",
      "2415 of grayscale images already existed.\n",
      "Finished converting 0 images to grayscale image in 0.032s\n"
     ]
    }
   ],
   "source": [
    "import time\n",
    "\n",
    "start = time.time()\n",
    "converted = 0\n",
    "file_existed = 0\n",
    "\n",
    "for i in image_files:\n",
    "    ext = splitext(i)\n",
    "    if ext[-1] != \".pgm\":\n",
    "        print(\"Excluding image {}\".format(i))\n",
    "        continue\n",
    "\n",
    "    img_name = i.split('/')\n",
    "    gray_img_name = join(grayscale_path, img_name[1], img_name[2])\n",
    "    if exists(gray_img_name):\n",
    "        file_existed = file_existed + 1\n",
    "        continue\n",
    "    \n",
    "    img = Image.open(i)\n",
    "    img = img.convert(\"L\")\n",
    "    img.save(gray_img_name)\n",
    "    converted = converted + 1\n",
    "print(\"{} of grayscale images already existed.\".format(file_existed))\n",
    "print(\"Finished converting {} images to grayscale image in {:.3f}s\".format(converted, time.time() - start))"
   ]
  },
  {
   "cell_type": "markdown",
   "metadata": {},
   "source": [
    "# Question 2\n",
    "Split the images into training set / test set\n",
    "- First 35 images as training, the rest 30 images as testing"
   ]
  },
  {
   "cell_type": "markdown",
   "metadata": {},
   "source": [
    "Slicing up the first 35 identical person images as training image and the rest 30 images as testing"
   ]
  },
  {
   "cell_type": "code",
   "execution_count": 86,
   "metadata": {},
   "outputs": [
    {
     "name": "stdout",
     "output_type": "stream",
     "text": [
      "len(train_image): 35\n",
      "len(test_image) : 29\n"
     ]
    }
   ],
   "source": [
    "train_image = image_files[:35]\n",
    "test_image  = image_files[35:64]\n",
    "print(\"len(train_image): {}\\n\" \\\n",
    "      \"len(test_image) : {}\".format(len(train_image), len(test_image)))"
   ]
  },
  {
   "cell_type": "markdown",
   "metadata": {},
   "source": [
    "Introduce two `np.array` variables as `train_arr` and `test_arr` to contain the array"
   ]
  },
  {
   "cell_type": "code",
   "execution_count": 83,
   "metadata": {
    "scrolled": false
   },
   "outputs": [
    {
     "name": "stdout",
     "output_type": "stream",
     "text": [
      "train_arr shape: (1128960,)\n",
      "test_arr shape : (935424,)\n"
     ]
    }
   ],
   "source": [
    "train_arr = np.array([], ndmin=1, dtype=np.int64)\n",
    "test_arr = np.array([], ndmin=1, dtype=np.int64)\n",
    "\n",
    "for a_train_image in train_image:\n",
    "    train_arr = np.append(train_arr,\n",
    "                         np.array(Image.open(a_train_image)))\n",
    "\n",
    "for a_test_image in test_image:\n",
    "    test_arr = np.append(test_arr,\n",
    "                         np.array(Image.open(a_test_image)))\n",
    "\n",
    "print(\"train_arr shape : {}\".format(train_arr.shape))\n",
    "print(\"test_arr shape  : {}\".format(test_arr.shape))"
   ]
  },
  {
   "cell_type": "markdown",
   "metadata": {},
   "source": [
    "Example above does not use `np.ravel` on its implementation because `np.append` append values to the end of an array."
   ]
  },
  {
   "cell_type": "code",
   "execution_count": null,
   "metadata": {},
   "outputs": [],
   "source": []
  }
 ],
 "metadata": {
  "kernelspec": {
   "display_name": "Python 2",
   "language": "python",
   "name": "python2"
  },
  "language_info": {
   "codemirror_mode": {
    "name": "ipython",
    "version": 2
   },
   "file_extension": ".py",
   "mimetype": "text/x-python",
   "name": "python",
   "nbconvert_exporter": "python",
   "pygments_lexer": "ipython2",
   "version": "2.7.13"
  }
 },
 "nbformat": 4,
 "nbformat_minor": 2
}
